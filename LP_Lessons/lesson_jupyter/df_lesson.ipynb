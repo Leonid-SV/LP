{
 "cells": [
  {
   "cell_type": "code",
   "execution_count": 6,
   "metadata": {},
   "outputs": [],
   "source": [
    "import pandas as pd\n",
    "import numpy as np\n",
    "from pprint import pprint"
   ]
  },
  {
   "cell_type": "markdown",
   "metadata": {},
   "source": [
    "### Cчитывание баз данных по московским станциям метро и автобусным остановкам"
   ]
  },
  {
   "cell_type": "code",
   "execution_count": 7,
   "metadata": {},
   "outputs": [],
   "source": [
    "metro_station_base = pd.read_excel('C:/Projects/LP_Lessons/lesson3/repair_of_escalators/repair_of_escalators.xlsx', encoding = 'cp1251')\n",
    "bus_stop_base = pd.read_excel('C:/Projects/LP_Lessons/lesson3/bus_stop_list/bus_stop_list.xlsx', encoding='cp1251')"
   ]
  },
  {
   "cell_type": "markdown",
   "metadata": {},
   "source": [
    "### Транспонирование "
   ]
  },
  {
   "cell_type": "code",
   "execution_count": 8,
   "metadata": {},
   "outputs": [],
   "source": [
    "msb = metro_station_base.T\n",
    "bsb = bus_stop_base.T"
   ]
  },
  {
   "cell_type": "markdown",
   "metadata": {},
   "source": [
    "### Функция расчета расстояния между точками"
   ]
  },
  {
   "cell_type": "code",
   "execution_count": 9,
   "metadata": {},
   "outputs": [],
   "source": [
    "def distance(coord_1, coord_2):\n",
    "\n",
    "    r_earth = 6371000\n",
    "\n",
    "    long_1 = coord_1[0]*np.pi/180\n",
    "    lati_1 = coord_1[1]*np.pi/180\n",
    "\n",
    "    long_2 = coord_2[0]*np.pi/180\n",
    "    lati_2 = coord_2[1]*np.pi/180\n",
    "\n",
    "    d_x = np.sin(long_1 - long_2)\n",
    "    d_y = np.sin(lati_1 - lati_2)\n",
    "\n",
    "    # точная оценка\n",
    "    d_rad = np.arccos( np.sin(long_1) * np.sin(long_2)\n",
    "            + np.cos(long_1) * np.cos(long_2) * np.cos(lati_1 - lati_2))\n",
    "    \n",
    "    dist = d_rad * r_earth\n",
    "    \n",
    "    return dist"
   ]
  },
  {
   "cell_type": "markdown",
   "metadata": {},
   "source": [
    "### Функция для суммирования количества автобусных остановок."
   ]
  },
  {
   "cell_type": "code",
   "execution_count": 10,
   "metadata": {},
   "outputs": [],
   "source": [
    "def close_plus(d, dots, rad):\n",
    "    '''\n",
    "    функция возвращает 1 если точка находится ближе чем rad хотя бы к одной из точек в списке точек dots, иначе 0\n",
    "    '''\n",
    "    answ = False\n",
    "    # d - георгафическая координата выхода автобусной остановки\n",
    "    # dots - несколько географических координат выходов из метро\n",
    "    for dot in dots: # dot - географические кооридинаты выхода из метро\n",
    "        \n",
    "        cond = distance(d, dot) < rad\n",
    "        answ = int(answ or cond)\n",
    "\n",
    "    return int(answ)"
   ]
  },
  {
   "cell_type": "markdown",
   "metadata": {},
   "source": [
    "### Создание словаря со списком названий станций метро и координат выходов с этой станции"
   ]
  },
  {
   "cell_type": "code",
   "execution_count": 16,
   "metadata": {},
   "outputs": [],
   "source": [
    "def main_calc(ms, bs, rad):\n",
    "    \n",
    "    len_bsb = len(bs.T)\n",
    "    len_msb = len(ms.T)\n",
    "    \n",
    "    # создание словаря с ключом из названий станций метро и значениями координат всех выходов в виде списка из пар координта до долготе и широте\n",
    "    ms_list = {}\n",
    "    for i in range(len_msb):\n",
    "        print('#', end = '')\n",
    "        cond_1 = ms[i]['NameOfStation'] in ms_list\n",
    "        if not cond_1:\n",
    "            ms_list[ms[i]['NameOfStation']] = [[ms[i]['Longitude_WGS84'], ms[i]['Latitude_WGS84']], ]\n",
    "        else: \n",
    "            ms_list[ms[i]['NameOfStation']].append([ms[i]['Longitude_WGS84'], ms[i]['Latitude_WGS84']])\n",
    "    \n",
    "    print('\\n')\n",
    "    print('Создан словарь станций метро и координат выходов.')\n",
    "    \n",
    "    # создание словаря с ключами из названий станций метро и значениями числа автобусных остановок\n",
    "    ms_list_count = {}\n",
    "    for ms_name, ms_dots in ms_list.items():\n",
    "        \n",
    "        print('#', end = '')\n",
    "        \n",
    "        for j in range(len_bsb):\n",
    "            dot = [bs[j]['Longitude_WGS84'], bs[j]['Latitude_WGS84'] ]\n",
    "            if ms_name not in ms_list_count:\n",
    "                ms_list_count[ms_name] = close_plus(dot, ms_dots, rad)\n",
    "            else:\n",
    "                ms_list_count[ms_name] += close_plus(dot, ms_dots, rad)\n",
    "    \n",
    "    print('\\n')\n",
    "    print('Счет завершен.')\n",
    "    \n",
    "    del ms_list\n",
    "    \n",
    "    return ms_list_count"
   ]
  },
  {
   "cell_type": "code",
   "execution_count": 17,
   "metadata": {},
   "outputs": [
    {
     "name": "stdout",
     "output_type": "stream",
     "text": [
      "###########################################################################################################################################################################################################################################################################################################################################################################################################################################################################################################################################################################################################################################################################################################################################################################################################################################################################################################################################################################################################################################################################################################\n",
      "\n",
      "Создан словарь станций метро и координат выходов.\n",
      "###########################################################################################################################################################################################################################################\n",
      "\n",
      "Счет завершен.\n"
     ]
    }
   ],
   "source": [
    "radius = 500\n",
    "mc = main_calc(msb, bsb, radius)"
   ]
  },
  {
   "cell_type": "code",
   "execution_count": 18,
   "metadata": {},
   "outputs": [],
   "source": [
    "def  main_select(d):\n",
    "    max = 0\n",
    "    for key, value in d.items():\n",
    "        if value > max: \n",
    "            max = value\n",
    "            d = {key: max}\n",
    "    pprint(d)\n",
    "    return d"
   ]
  },
  {
   "cell_type": "code",
   "execution_count": 19,
   "metadata": {},
   "outputs": [
    {
     "name": "stdout",
     "output_type": "stream",
     "text": [
      "{'Новогиреево': 33}\n"
     ]
    },
    {
     "data": {
      "text/plain": [
       "{'Новогиреево': 33}"
      ]
     },
     "execution_count": 19,
     "metadata": {},
     "output_type": "execute_result"
    }
   ],
   "source": [
    "main_select(mc)"
   ]
  },
  {
   "cell_type": "code",
   "execution_count": null,
   "metadata": {},
   "outputs": [],
   "source": []
  }
 ],
 "metadata": {
  "celltoolbar": "Edit Metadata",
  "kernelspec": {
   "display_name": "Python 3",
   "language": "python",
   "name": "python3"
  },
  "language_info": {
   "codemirror_mode": {
    "name": "ipython",
    "version": 3
   },
   "file_extension": ".py",
   "mimetype": "text/x-python",
   "name": "python",
   "nbconvert_exporter": "python",
   "pygments_lexer": "ipython3",
   "version": "3.7.2"
  }
 },
 "nbformat": 4,
 "nbformat_minor": 2
}
