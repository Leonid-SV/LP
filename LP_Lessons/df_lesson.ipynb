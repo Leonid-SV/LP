{
 "cells": [
  {
   "cell_type": "code",
   "execution_count": 5,
   "metadata": {},
   "outputs": [],
   "source": [
    "import pandas as pd\n",
    "import numpy as np\n",
    "from pprint import pprint"
   ]
  },
  {
   "cell_type": "markdown",
   "metadata": {},
   "source": [
    "# Cчитывание баз данных по московским станциям метро и автобусным остановкам"
   ]
  },
  {
   "cell_type": "code",
   "execution_count": 6,
   "metadata": {},
   "outputs": [],
   "source": [
    "metro_station_base = pd.read_excel('C:/Projects/LP_Lessons/lesson3/repair_of_escalators/repair_of_escalators.xlsx', encoding = 'cp1251')\n",
    "metro_station_base = metro_station_base[metro_station_base.index <= 50]\n",
    "\n",
    "bus_stop_base = pd.read_excel('C:/Projects/LP_Lessons/lesson3/bus_stop_list/bus_stop_list.xlsx', encoding='cp1251')\n"
   ]
  },
  {
   "cell_type": "raw",
   "metadata": {},
   "source": [
    "Транспонирование"
   ]
  },
  {
   "cell_type": "code",
   "execution_count": null,
   "metadata": {},
   "outputs": [],
   "source": [
    "msb = metro_station_base.T\n",
    "bsb = bus_station_base.T\n",
    "msb"
   ]
  },
  {
   "cell_type": "raw",
   "metadata": {},
   "source": [
    "Функция расчета расстояния между двумя точками"
   ]
  },
  {
   "cell_type": "code",
   "execution_count": null,
   "metadata": {},
   "outputs": [],
   "source": [
    "def distance(coord_1, coord_2):\n",
    "\n",
    "    r_earth = 6371000\n",
    "\n",
    "    long_1 = coord_1[0]*np.pi/180\n",
    "    lati_1 = coord_1[1]*np.pi/180\n",
    "\n",
    "    long_2 = coord_2[0]*np.pi/180\n",
    "    lati_2 = coord_2[1]*np.pi/180\n",
    "\n",
    "    d_x = np.sin(long_1 - long_2)\n",
    "    d_y = np.sin(lati_1 - lati_2)\n",
    "\n",
    "    # точная оценка\n",
    "    d_rad = np.arccos( np.sin(long_1) * np.sin(long_2)\n",
    "        + np.cos(long_1) * np.cos(long_2) * np.cos(lati_1 - lati_2))\n",
    "\n",
    "    # грубая оценка\n",
    "    # d_rad = (d_x ** 2 + d_y ** 2) ** 0.5\n",
    "\n",
    "    return d_rad*r_earth"
   ]
  },
  {
   "cell_type": "code",
   "execution_count": null,
   "metadata": {},
   "outputs": [],
   "source": []
  }
 ],
 "metadata": {
  "kernelspec": {
   "display_name": "Python 3",
   "language": "python",
   "name": "python3"
  }
 },
 "nbformat": 4,
 "nbformat_minor": 2
}
